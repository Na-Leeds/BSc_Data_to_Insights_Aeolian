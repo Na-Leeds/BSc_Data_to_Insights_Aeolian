{
  "cells": [
    {
      "cell_type": "markdown",
      "source": [
        "Wind characteristics are the most important control in aeolian environments. Wind regime and sand transport potential play a crucial rule to determine the evolution and dynamics of aeolian processes and landforms. In this exercise, we will: (1) analyse wind data from a meteorological station and make wind roses; (2) use the Law of the Wall to determine the roughness length; and (3) calculate resultant drift potential, resultant drift direction and wind directional variability using Fryberger method."
      ],
      "metadata": {
        "id": "qZBiT_L5nixx"
      },
      "id": "qZBiT_L5nixx"
    },
    {
      "cell_type": "markdown",
      "source": [
        "## **Wind roses**\n",
        "Average 6-hourly wind velocities from 1957 to 2003 were acquired from the meteorological station in Dongsheng, Inner Mongolia. Wind directions were recorded in 16 directions. 1 to 16 represents wind from NNE, NE, ENE ... in the clockwise direction. So 22.5 degree intervals. 17 means no wind."
      ],
      "metadata": {
        "id": "cBqH5ejMoVXN"
      },
      "id": "cBqH5ejMoVXN"
    },
    {
      "cell_type": "code",
      "source": [
        "# install package for windrose\n",
        "!pip install windrose"
      ],
      "metadata": {
        "id": "G-9MVj5wqc1n"
      },
      "id": "G-9MVj5wqc1n",
      "execution_count": null,
      "outputs": []
    },
    {
      "cell_type": "code",
      "execution_count": null,
      "id": "8ee0f199-7f06-4248-a3f5-cc1384741c89",
      "metadata": {
        "id": "8ee0f199-7f06-4248-a3f5-cc1384741c89"
      },
      "outputs": [],
      "source": [
        "# import packages\n",
        "import numpy as np\n",
        "import pandas as pd\n",
        "import matplotlib.pyplot as plt\n",
        "import matplotlib.cm as cm\n",
        "import seaborn as sns\n",
        "import math\n",
        "from math import pi"
      ]
    },
    {
      "cell_type": "code",
      "execution_count": null,
      "id": "6a216738-233c-49d7-9f14-6295c8b73d00",
      "metadata": {
        "id": "6a216738-233c-49d7-9f14-6295c8b73d00"
      },
      "outputs": [],
      "source": [
        "# read the data\n",
        "df = pd.read_csv(\"https://raw.githubusercontent.com/Na-Leeds/BSc_Data_to_Insights_Aeolian/refs/heads/main/raw%20data%20wind%20Dongsheng.csv\")"
      ]
    },
    {
      "cell_type": "code",
      "execution_count": null,
      "id": "6da2547e-eccf-4669-af13-bc984b7bd9a7",
      "metadata": {
        "id": "6da2547e-eccf-4669-af13-bc984b7bd9a7"
      },
      "outputs": [],
      "source": [
        "# check the first 10 rows of data\n",
        "df.head(10)"
      ]
    },
    {
      "cell_type": "code",
      "execution_count": null,
      "id": "e64089eb-0e86-4f8a-a3f3-4304a02eff66",
      "metadata": {
        "id": "e64089eb-0e86-4f8a-a3f3-4304a02eff66"
      },
      "outputs": [],
      "source": [
        "# summary statistics\n",
        "df.describe()"
      ]
    },
    {
      "cell_type": "code",
      "execution_count": null,
      "id": "10f47591-b4c7-4adf-b328-085b721a872a",
      "metadata": {
        "id": "10f47591-b4c7-4adf-b328-085b721a872a"
      },
      "outputs": [],
      "source": [
        "# check data types\n",
        "df.dtypes"
      ]
    },
    {
      "cell_type": "code",
      "execution_count": null,
      "id": "f0ee7d23-c9e5-4f19-aceb-98d2bf56be45",
      "metadata": {
        "scrolled": true,
        "id": "f0ee7d23-c9e5-4f19-aceb-98d2bf56be45"
      },
      "outputs": [],
      "source": [
        "# check the size of data\n",
        "df.shape"
      ]
    },
    {
      "cell_type": "code",
      "execution_count": null,
      "id": "1697e62d-005d-465d-808e-5f8c2b07de19",
      "metadata": {
        "id": "1697e62d-005d-465d-808e-5f8c2b07de19"
      },
      "outputs": [],
      "source": [
        "# df.loc[df['direction']>17]"
      ]
    },
    {
      "cell_type": "code",
      "execution_count": null,
      "id": "ca90f3f0-297a-494f-8e4d-1d3e8a090244",
      "metadata": {
        "id": "ca90f3f0-297a-494f-8e4d-1d3e8a090244"
      },
      "outputs": [],
      "source": [
        "# delete rows with odd direction\n",
        "# df = df.drop(df[df['direction']>17].index)"
      ]
    },
    {
      "cell_type": "code",
      "execution_count": null,
      "id": "abbb1f3c-de26-433b-a097-7a5385e18aef",
      "metadata": {
        "id": "abbb1f3c-de26-433b-a097-7a5385e18aef"
      },
      "outputs": [],
      "source": [
        "# check the size of data again\n",
        "#df.shape"
      ]
    },
    {
      "cell_type": "code",
      "execution_count": null,
      "id": "53c06cc3-4195-46b5-a82b-8fb66007f642",
      "metadata": {
        "id": "53c06cc3-4195-46b5-a82b-8fb66007f642"
      },
      "outputs": [],
      "source": [
        "# check data\n",
        "df.min()"
      ]
    },
    {
      "cell_type": "code",
      "execution_count": null,
      "id": "c4099356-2d4f-47a0-b791-190cbc3aa97d",
      "metadata": {
        "id": "c4099356-2d4f-47a0-b791-190cbc3aa97d"
      },
      "outputs": [],
      "source": [
        "df.max()"
      ]
    },
    {
      "cell_type": "code",
      "execution_count": null,
      "id": "73216532-437b-4938-b5b1-12ed43b0bbdc",
      "metadata": {
        "id": "73216532-437b-4938-b5b1-12ed43b0bbdc"
      },
      "outputs": [],
      "source": [
        "# create a new column with direction in degree\n",
        "df['dir_compass'] = df['direction']*22.5"
      ]
    },
    {
      "cell_type": "code",
      "execution_count": null,
      "id": "24050271-01b2-4287-b694-c10dbe8fdfbf",
      "metadata": {
        "id": "24050271-01b2-4287-b694-c10dbe8fdfbf"
      },
      "outputs": [],
      "source": [
        "# plot histogram of wind speed\n",
        "df['speed'].hist(bins = 20, rwidth=0.8, color = 'grey')"
      ]
    },
    {
      "cell_type": "code",
      "execution_count": null,
      "id": "00a4dc63-ef36-4447-a1af-554b7c0bf8d1",
      "metadata": {
        "id": "00a4dc63-ef36-4447-a1af-554b7c0bf8d1"
      },
      "outputs": [],
      "source": [
        "# plot wind roses\n",
        "from windrose import WindroseAxes, plot_windrose\n",
        "\n",
        "# plot windrose in bar mode, in percent\n",
        "ax = WindroseAxes.from_ax()\n",
        "\n",
        "ax.bar(df.dir_compass, df.speed, bins = np.array([0, 2, 4, 6, 8, 10]), normed=True, opening=0.8, cmap=cm.jet, linewidth=0.5, edgecolor='white')\n",
        "ax.set_legend(title = 'Wind Speed (m/s)', loc='best')\n",
        "\n",
        "# Format radius axis to percentages\n",
        "import matplotlib.ticker as mtick\n",
        "fmt = '%.0f%%'\n",
        "yticks = mtick.FormatStrFormatter(fmt)\n",
        "ax.yaxis.set_major_formatter(yticks)\n",
        "\n",
        "plt.show()\n",
        "\n",
        "# check this link and choose your favorite colourmap: https://matplotlib.org/stable/gallery/color/colormap_reference.html\n",
        "\n",
        "\n"
      ]
    },
    {
      "cell_type": "code",
      "execution_count": null,
      "id": "fe40f100-fe01-456a-a71d-519d9a0788c8",
      "metadata": {
        "id": "fe40f100-fe01-456a-a71d-519d9a0788c8"
      },
      "outputs": [],
      "source": [
        "# plot windrose in filled mode, in bin limits\n",
        "ax = WindroseAxes.from_ax()\n",
        "ax.contourf(df.dir_compass, df.speed, bins=np.arange(0, 8, 1), cmap=cm.gist_rainbow)\n",
        "ax.set_legend(title = 'Wind Speed (m/s)', loc='best')\n",
        "\n",
        "# Format radius axis\n",
        "fmt = '%.0f'\n",
        "yticks = mtick.FormatStrFormatter(fmt)\n",
        "ax.yaxis.set_major_formatter(yticks)"
      ]
    },
    {
      "cell_type": "code",
      "execution_count": null,
      "id": "8f0c75c7-8eca-404e-a243-5cc2c35945f5",
      "metadata": {
        "id": "8f0c75c7-8eca-404e-a243-5cc2c35945f5"
      },
      "outputs": [],
      "source": [
        "# plot windrose for each month\n",
        "def plot_windrose_subplots(data, *, direction, var, color=None, **kwargs):\n",
        "    \"\"\"wrapper function to create subplots per axis\"\"\"\n",
        "    ax = plt.gca()\n",
        "    ax = WindroseAxes.from_ax(ax=ax)\n",
        "    plot_windrose(direction_or_df=data[direction], var=data[var], ax=ax, **kwargs)\n",
        "\n",
        "\n",
        "# this creates the raw subplot structure with a subplot per value in month.\n",
        "g = sns.FacetGrid(\n",
        "    data=df,\n",
        "    # the column name for each level a subplot should be created\n",
        "    col=\"month\",\n",
        "    # place a maximum of 3 plots per row\n",
        "    col_wrap=3,\n",
        "    subplot_kws={\"projection\": \"windrose\"},\n",
        "    sharex=False,\n",
        "    sharey=False,\n",
        "    despine=False,\n",
        "    height=3.5,\n",
        ")\n",
        "\n",
        "g.map_dataframe(\n",
        "    plot_windrose_subplots,\n",
        "    direction=\"dir_compass\",\n",
        "    var=\"speed\",\n",
        "    normed=True,\n",
        "    # manually set bins, so they match for each subplot\n",
        "    bins=(0.1, 1, 2, 3, 4, 5, 6, 7),\n",
        "    calm_limit=0.1,\n",
        "    kind=\"bar\",\n",
        ")\n",
        "\n",
        "# make the subplots easier to compare, by having the same y-axis range\n",
        "y_ticks = range(0, 20, 4)\n",
        "for ax in g.axes:\n",
        "    ax.set_legend(\n",
        "        title='Wind Speed (m/s)', bbox_to_anchor=(1.15, -0.1), loc=\"lower right\"\n",
        "    )\n",
        "    ax.set_rgrids(y_ticks, y_ticks)\n",
        "\n",
        "# adjust the spacing between the subplots to have sufficient space between plots\n",
        "plt.subplots_adjust(wspace=0.2)"
      ]
    },
    {
      "cell_type": "markdown",
      "id": "71d61f7b-5d64-484e-b579-c27e2dab9856",
      "metadata": {
        "id": "71d61f7b-5d64-484e-b579-c27e2dab9856"
      },
      "source": [
        "## **The Law of the Wall - wind profiles**\n",
        "In order to caculate the threshold velocity at the height of 10.4 m, where cup anemometers were set up at the Dongsheng meteorological station, we will estimate the roughness length of the surface (z0) with wind velocity and direction data collected with a tower of 3-cup anemoanemometers at heights of 0.6m, 1.0m, 1.2m, 1.5m and 2.0m.\n"
      ]
    },
    {
      "cell_type": "code",
      "execution_count": null,
      "id": "d8d9f268-3626-4a86-8d3e-0f747e47beb0",
      "metadata": {
        "id": "d8d9f268-3626-4a86-8d3e-0f747e47beb0"
      },
      "outputs": [],
      "source": [
        "# load the data\n",
        "df_wind = pd.read_csv(\"https://raw.githubusercontent.com/Na-Leeds/BSc_Data_to_Insights_Aeolian/refs/heads/main/windprofile.csv\")"
      ]
    },
    {
      "cell_type": "code",
      "execution_count": null,
      "id": "c93ac06e-4014-4621-be2d-292385765e67",
      "metadata": {
        "id": "c93ac06e-4014-4621-be2d-292385765e67"
      },
      "outputs": [],
      "source": [
        "# check the data\n",
        "df_wind.head()"
      ]
    },
    {
      "cell_type": "code",
      "execution_count": null,
      "id": "364f49aa-2e0d-4a17-90f4-6b04c8086710",
      "metadata": {
        "id": "364f49aa-2e0d-4a17-90f4-6b04c8086710"
      },
      "outputs": [],
      "source": [
        "# There are seven sets of data. We will fit a linear regression between veolicities and ln(H) for each set of data.\n",
        "from sklearn.metrics import r2_score\n",
        "\n",
        "df_wind_results = pd.DataFrame(index = range(7), columns=['r_squared', 'shear_v', 'z0'])\n",
        "plt.figure()\n",
        "for idata in list(range(0,df_wind.shape[0],1)):\n",
        "\n",
        "    # perform linear regression\n",
        "    x_data = df_wind.iloc[:, idata+1]\n",
        "    y_data = np.log(df_wind['H'])\n",
        "    slope, intercept = np.polyfit(x_data, y_data, 1)\n",
        "\n",
        "    # calculate predicted values using the regression equation\n",
        "    y_predicted = slope * x_data + intercept\n",
        "\n",
        "    # Calculate R-squared value\n",
        "    r_squared = r2_score(y_data, y_predicted)\n",
        "    shear_v = 0.4/slope\n",
        "    z0 = np.exp(intercept)\n",
        "\n",
        "    df_wind_results.iloc[idata, 0] = r_squared\n",
        "    df_wind_results.iloc[idata, 1] = shear_v\n",
        "    df_wind_results.iloc[idata, 2] = z0\n",
        "\n",
        "\n",
        "    # Plot the data and regression line\n",
        "    plt.scatter(x_data, df_wind['H'])\n",
        "    plt.plot(x_data, np.exp(y_predicted))\n",
        "\n",
        "# format figure\n",
        "plt.yscale(\"log\")\n",
        "plt.xlabel('wind velocity (m/s)')\n",
        "plt.ylabel('Height (m)')\n",
        "plt.legend([\"data\",\"linear regression\"], fontsize=\"x-large\")\n",
        "plt.show()\n"
      ]
    },
    {
      "cell_type": "code",
      "execution_count": null,
      "id": "9cee1a4d-5482-48ef-8874-c302cb15f64f",
      "metadata": {
        "id": "9cee1a4d-5482-48ef-8874-c302cb15f64f"
      },
      "outputs": [],
      "source": [
        "# show results\n",
        "print(df_wind_results)"
      ]
    },
    {
      "cell_type": "code",
      "execution_count": null,
      "id": "38ee2fc2-249a-471b-aded-59037a21a4c4",
      "metadata": {
        "id": "38ee2fc2-249a-471b-aded-59037a21a4c4"
      },
      "outputs": [],
      "source": [
        "# calculate shear velocity at the height = 10.4m where meteorological station is located. The threshold shear veolicity at the surface is 0.19, which is known.\n",
        "threshold_shear_v = 0.19\n",
        "z0_mean = df_wind_results['z0'].mean()\n",
        "\n",
        "# caluclate threshold shear velocity at the height of 10.4m (height of cup anemometer for the meterological station)\n",
        "shear_v_station = threshold_shear_v/0.4*math.log(10.4/z0_mean)\n",
        "print(shear_v_station)"
      ]
    },
    {
      "cell_type": "markdown",
      "source": [
        "##**Sand drift potential**\n",
        "Sand drift potentials (DP), which reflect the relative amount of potential sand drift for a certain period of time, were evaluated by the Fryberger method (Fryberger, 1979)."
      ],
      "metadata": {
        "id": "9yvMmGsst8H7"
      },
      "id": "9yvMmGsst8H7"
    },
    {
      "cell_type": "code",
      "execution_count": null,
      "id": "a8157d51-d270-4d26-851f-f4e1a321252b",
      "metadata": {
        "id": "a8157d51-d270-4d26-851f-f4e1a321252b"
      },
      "outputs": [],
      "source": [
        "# calculate drift potential for each direction\n",
        "df['DP'] = df['speed']*df['speed']*(df['speed']-shear_v_station)*1/df.shape[0]\n",
        "\n",
        "# change negative DP to zero\n",
        "df.loc[df['DP']<0, 'DP'] = 0\n",
        "\n",
        "# check DP\n",
        "df['DP'].describe()"
      ]
    },
    {
      "cell_type": "code",
      "execution_count": null,
      "id": "d50f58df-8c77-4c9e-945b-1d20ab2668c5",
      "metadata": {
        "id": "d50f58df-8c77-4c9e-945b-1d20ab2668c5"
      },
      "outputs": [],
      "source": [
        "# summarise DP for each wind direction\n",
        "df_DP = pd.DataFrame()\n",
        "df_DP['dir'] = list(range(1, 17, 1))\n",
        "df_DP['DP'] = np.nan\n",
        "\n",
        "for dir in list(range(1, 17, 1)):\n",
        "    DP_sum = df.loc[df['direction'] == dir, 'DP'].sum()\n",
        "    df_DP.iloc[dir-1, 1] = DP_sum\n",
        "\n",
        "print(df_DP)"
      ]
    },
    {
      "cell_type": "code",
      "execution_count": null,
      "id": "bb6645bb-eee6-498c-b122-df44482a323a",
      "metadata": {
        "id": "bb6645bb-eee6-498c-b122-df44482a323a"
      },
      "outputs": [],
      "source": [
        "# add a column with directions in degree\n",
        "df_DP['dir_compass'] = df_DP['dir']*22.5\n",
        "print(df_DP)"
      ]
    },
    {
      "cell_type": "code",
      "execution_count": null,
      "id": "a90ccb3a-6a1c-4f21-8778-55fa825ca36a",
      "metadata": {
        "id": "a90ccb3a-6a1c-4f21-8778-55fa825ca36a"
      },
      "outputs": [],
      "source": [
        "# cacluate resultant drift potential (RDP), remember compass direction is different from normal x,y direction\n",
        "df_DP['DP_n'] = np.nan\n",
        "df_DP['DP_e'] = np.nan\n",
        "for i in list(range(0, 16, 1)):\n",
        "    df_DP.iloc[i,3] =  df_DP.iloc[i,1] * math.cos(math.radians(df_DP.iloc[i, 2]))\n",
        "    df_DP.iloc[i,4] =  df_DP.iloc[i,1] * math.sin(math.radians(df_DP.iloc[i, 2]))\n",
        "\n",
        "RDP_n = df_DP['DP_n'].sum()\n",
        "RDP_e = df_DP['DP_e'].sum()\n",
        "RDP = math.sqrt(math.pow(df_DP['DP_n'].sum(), 2) + math.pow(df_DP['DP_e'].sum(), 2))\n",
        "RDP_dir = math.degrees(math.atan2(RDP_n,RDP_e)) # direction of RDP is direction of wind blows to (not from)\n",
        "RDP2DP = RDP/df_DP['DP'].sum()\n",
        "\n",
        "print(RDP_n, RDP_e, RDP, RDP_dir, RDP2DP)"
      ]
    },
    {
      "cell_type": "code",
      "execution_count": null,
      "id": "bf766ba3-2458-4f0d-af55-ae87c1d811de",
      "metadata": {
        "id": "bf766ba3-2458-4f0d-af55-ae87c1d811de"
      },
      "outputs": [],
      "source": [
        "# Plot DP in polar plot\n",
        "theta = np.linspace(0, 2*np.pi, 16, endpoint=False)\n",
        "directions = df_DP['dir_compass']\n",
        "\n",
        "ax = plt.subplot(polar=True)\n",
        "ax.bar(theta, df_DP['DP'], width=2*pi/16*0.8, linewidth=1, edgecolor='k', alpha=1, color = 'k')\n",
        "\n",
        "ax.set_xticks(theta)\n",
        "ax.set_xticklabels(directions)\n",
        "ax.set_yticks([2,4,6,8])\n",
        "ax.set_yticklabels([2,4,6,8])\n",
        "\n",
        "# set change in clockwise direction and zero at the north direction\n",
        "ax.set_theta_offset(math.radians(45+22.5))\n",
        "ax.set_theta_direction(-1)\n",
        "\n"
      ]
    },
    {
      "cell_type": "code",
      "execution_count": null,
      "id": "8e23ece4-70b4-4dde-9abf-01e58f51c1fb",
      "metadata": {
        "id": "8e23ece4-70b4-4dde-9abf-01e58f51c1fb"
      },
      "outputs": [],
      "source": [
        "# check outputs\n",
        "df_DP"
      ]
    },
    {
      "cell_type": "code",
      "execution_count": null,
      "id": "db955763-b870-41ac-a4ec-5732e368b676",
      "metadata": {
        "id": "db955763-b870-41ac-a4ec-5732e368b676"
      },
      "outputs": [],
      "source": [
        "# calculate DP for each month\n",
        "df_DP['DP_Jan'] = np.nan\n",
        "df_DP['DP_Feb'] = np.nan\n",
        "df_DP['DP_Mar'] = np.nan\n",
        "df_DP['DP_Apr'] = np.nan\n",
        "df_DP['DP_May'] = np.nan\n",
        "df_DP['DP_Jun'] = np.nan\n",
        "df_DP['DP_Jul'] = np.nan\n",
        "df_DP['DP_Aug'] = np.nan\n",
        "df_DP['DP_Sep'] = np.nan\n",
        "df_DP['DP_Oct'] = np.nan\n",
        "df_DP['DP_Nov'] = np.nan\n",
        "df_DP['DP_Dec'] = np.nan\n",
        "\n",
        "# create dataframe with 16 rows (wind directions), and 12 coloumns (12 months)\n",
        "df_DP_n = pd.DataFrame(index = range(16), columns=['Jan', 'Feb', 'Mar', 'Apr','May','Jun','Jul','Aug','Sep','Oct','Nov','Dec'])\n",
        "df_DP_e = pd.DataFrame(index = range(16), columns=['Jan', 'Feb', 'Mar', 'Apr','May','Jun','Jul','Aug','Sep','Oct','Nov','Dec'])\n",
        "\n",
        "# create a dataframe with 12 rows (12 months) and 2 coloumns (resultant drift potential and its direction)\n",
        "RDP_month = pd.DataFrame(index = range(12), columns=['RDP', 'Dir', 'DP', 'RDP2DP'])\n",
        "\n",
        "for j in list(range(1,13,1)):\n",
        "    df_month = df.loc[df['month'] == j]\n",
        "\n",
        "    for i in list(range(1, 17, 1)):\n",
        "        DP_sum = df_month.loc[df_month['direction'] == i, 'DP'].sum()\n",
        "        df_DP.iloc[i-1,j+4] = DP_sum\n",
        "        df_DP_n.iloc[i-1,j-1] = DP_sum * math.cos(math.radians(df_DP.iloc[i-1, 2]))\n",
        "        df_DP_e.iloc[i-1,j-1] = DP_sum * math.sin(math.radians(df_DP.iloc[i-1, 2]))\n",
        "\n",
        "# check results\n",
        "RDP_month_n = df_DP_n.sum()\n",
        "RDP_month_e = df_DP_e.sum()\n",
        "RDP_month_DP = df_DP.sum().iloc[5:17]\n",
        "\n",
        "for k in list(range(0, 12, 1)):\n",
        "    RDP = math.sqrt(math.pow(RDP_month_n.iloc[k], 2) + math.pow(RDP_month_e.iloc[k], 2))\n",
        "    Dir = math.degrees(math.atan2(RDP_month_n.iloc[k], RDP_month_e.iloc[k])) # direction of RDP is direction of wind blows to (not from)\n",
        "    if Dir < 0:\n",
        "        Dir = Dir + 180\n",
        "    RDP_month.iloc[k,0] = RDP\n",
        "    RDP_month.iloc[k,1] = Dir\n",
        "    RDP_month.iloc[k,2] = RDP_month_DP.iloc[k]\n",
        "    RDP_month.iloc[k,3] = RDP/RDP_month_DP.iloc[k]\n",
        "\n",
        "print(RDP_month)"
      ]
    },
    {
      "cell_type": "code",
      "execution_count": null,
      "id": "828dbfc5-2ea4-45b4-929e-0b2acb62ff60",
      "metadata": {
        "id": "828dbfc5-2ea4-45b4-929e-0b2acb62ff60"
      },
      "outputs": [],
      "source": [
        "# plot DP for each month\n",
        "theta = np.linspace(0, 2*np.pi, 16, endpoint=False)\n",
        "directions = df_DP['dir_compass']\n",
        "fig, axs = plt.subplots(4, 3, subplot_kw = {'projection' : 'polar'}, figsize=(10, 15))\n",
        "grid = plt.GridSpec(4, 3, wspace=0.2, hspace=1)\n",
        "plt.figure(figsize=[600,50])\n",
        "for j in range(4):\n",
        "    for i in range(3):\n",
        "        month = j*3 + i + 1\n",
        "        axs[j,i].bar(theta, df_DP.iloc[: ,5+month-i], width=2*pi/16*0.8, linewidth=1, edgecolor='k', alpha=1, color = 'k')\n",
        "        axs[j,i].set_xticks(theta)\n",
        "        axs[j,i].set_xticklabels(directions)\n",
        "        axs[j,i].set_yticks([0.2,0.4,0.6,0.8,1.0])\n",
        "        axs[j,i].set_yticklabels([0.2,0.4,0.6,0.8,1.0])\n",
        "\n",
        "        # set change in clockwise direction and zero at the north direction\n",
        "        axs[j,i].set_theta_offset(math.radians(45+22.5))\n",
        "        axs[j,i].set_theta_direction(-1)\n",
        "        axs[j,i].title.set_text(f'Month {month}')\n",
        "\n",
        "fig.tight_layout(h_pad=1, w_pad=1)"
      ]
    },
    {
      "cell_type": "markdown",
      "source": [
        "## **Questions:**\n",
        "- Comparing the drift potential roses with wind roses in the first part, what do you notice?\n",
        "- How many dominant wind directions?\n",
        "- What types of dunes are likely to develop in the given wind regime?"
      ],
      "metadata": {
        "id": "8BBMBrJqwOBT"
      },
      "id": "8BBMBrJqwOBT"
    },
    {
      "cell_type": "code",
      "execution_count": null,
      "id": "b2aaa1a7-25b8-4fe5-a074-568275c6819a",
      "metadata": {
        "id": "b2aaa1a7-25b8-4fe5-a074-568275c6819a"
      },
      "outputs": [],
      "source": []
    },
    {
      "cell_type": "code",
      "execution_count": null,
      "id": "218cf9c4-4b82-4ca4-a580-bdd6c217798b",
      "metadata": {
        "id": "218cf9c4-4b82-4ca4-a580-bdd6c217798b"
      },
      "outputs": [],
      "source": []
    }
  ],
  "metadata": {
    "kernelspec": {
      "display_name": "Python 3 (ipykernel)",
      "language": "python",
      "name": "python3"
    },
    "language_info": {
      "codemirror_mode": {
        "name": "ipython",
        "version": 3
      },
      "file_extension": ".py",
      "mimetype": "text/x-python",
      "name": "python",
      "nbconvert_exporter": "python",
      "pygments_lexer": "ipython3",
      "version": "3.12.0"
    },
    "colab": {
      "provenance": [],
      "toc_visible": true
    }
  },
  "nbformat": 4,
  "nbformat_minor": 5
}